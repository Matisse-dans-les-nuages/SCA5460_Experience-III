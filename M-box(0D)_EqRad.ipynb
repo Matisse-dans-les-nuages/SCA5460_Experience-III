{
 "cells": [
  {
   "cell_type": "code",
   "execution_count": 1,
   "id": "921fd798",
   "metadata": {},
   "outputs": [
    {
     "name": "stdout",
     "output_type": "stream",
     "text": [
      "Intel MKL WARNING: Support of Intel(R) Streaming SIMD Extensions 4.2 (Intel(R) SSE4.2) enabled only processors has been deprecated. Intel oneAPI Math Kernel Library 2025.0 will require Intel(R) Advanced Vector Extensions (Intel(R) AVX) instructions.\n",
      "Intel MKL WARNING: Support of Intel(R) Streaming SIMD Extensions 4.2 (Intel(R) SSE4.2) enabled only processors has been deprecated. Intel oneAPI Math Kernel Library 2025.0 will require Intel(R) Advanced Vector Extensions (Intel(R) AVX) instructions.\n"
     ]
    }
   ],
   "source": [
    "import numpy as np\n",
    "import matplotlib.pyplot as plt"
   ]
  },
  {
   "cell_type": "markdown",
   "id": "601feaba",
   "metadata": {},
   "source": [
    "# Définition d'une fonction python\n",
    "---\n",
    "### Calcul de $T_a$ et $T_s$ en fonction des paramètres $S_0$, $R$, $\\alpha$, $\\varepsilon_a$ et $\\varepsilon_s$\n",
    "---"
   ]
  },
  {
   "cell_type": "code",
   "execution_count": 12,
   "id": "db830b78",
   "metadata": {},
   "outputs": [],
   "source": [
    "# CONSTANTES\n",
    "\n",
    "R = 6373 #[km], rayon de la Terre *\n",
    "SB = 5.670E-8 # [W m^-2 K^-4], Constante de Stefan-Boltzmann *\n",
    "S_0 = 1365 #[W m^-2], Constante solaire (du problème)\n",
    "ep_s = 1\n",
    "ep_a = 0.77\n",
    "alpha = 0.3 #Albédo \n",
    "# * (Petty, appendix D, p.447)"
   ]
  },
  {
   "cell_type": "markdown",
   "id": "90a845fd",
   "metadata": {},
   "source": [
    "Nous choisissons les valeurs ci-dessus comme constantes, car elles ne varient pas dans le cadre de cet exercice spécifique. $R$ et $S_0$ ne varient normalement pas, et $\\sigma$ est une constante par définition"
   ]
  },
  {
   "cell_type": "code",
   "execution_count": 3,
   "id": "4e5a6f9d",
   "metadata": {},
   "outputs": [],
   "source": [
    "# FONCTIONS\n",
    "\n",
    "# T-func()\n",
    "# > PARAMS :  \n",
    "# S_0, la constante solaire (int)\n",
    "# alpha, l'albédo terrestre (float)\n",
    "# ep_s, l'émissivité de surface (float)\n",
    "# ep_a, l'émissivité de l'atmosphère (float)\n",
    "# > RETURNS : \n",
    "# T_a, la température de l'atmosphère (float) [K]\n",
    "# T_s, la température de surface (float) [K]          \n",
    "\n",
    "def T_func(S_0, alpha, ep_s, ep_a):\n",
    "    # TEMPÉRATURE DE SURFACE\n",
    "    global SB\n",
    "    # Le numérateur et dénominateur de la fonction\n",
    "    # sont séparés pour la lisibilité seulement\n",
    "    num = (1-alpha)*S_0\n",
    "    denom = 4*SB*(ep_s-(ep_a/2))\n",
    "    \n",
    "    T_s = (num/denom)\n",
    "    \n",
    "    #TEMPÉRATURE DE L'ATMOSPHÈRE\n",
    "    \n",
    "    T_a = ep_s*T_s*(1/2)\n",
    "    \n",
    "    return T_s**(1/4), T_a**(1/4) #Renvoie un tuple (T_s, T_a)\n"
   ]
  },
  {
   "cell_type": "code",
   "execution_count": 4,
   "id": "231fc2af",
   "metadata": {},
   "outputs": [],
   "source": [
    "#FONCTION\n",
    "# > PARAMS:\n",
    "# pos, 0 ou 1, selon qu'on cherche à calculer T_s ou T_a (int)\n",
    "# param, \"alpha\", \"ep_s\" ou \"ep_a\", selon le paramètre variable (string)\n",
    "# val_array, l'ensemble des valeurs que prend la valeur param (array 1xn)\n",
    "# > RETURN:\n",
    "# L'array des températures, variantes selon le param sélectionné (array 1xn)\n",
    "\n",
    "def T_array(pos, param, val_array):\n",
    "    T_array=[]\n",
    "    global S_0\n",
    "    global R\n",
    "    global ep_s\n",
    "    global ep_a\n",
    "    global alpha\n",
    "    #Constantes, selon le cas\n",
    "    \n",
    "    if param == \"alpha\":\n",
    "        for value in val_array:\n",
    "            T_array.append(T_func(S_0, value, ep_s, ep_a)[pos])\n",
    "            \n",
    "    elif param == \"ep_a\":\n",
    "        for value in val_array:\n",
    "            T_array.append(T_func(S_0,alpha, ep_s, value)[pos])\n",
    "            \n",
    "    elif param == \"ep_s\":\n",
    "        for value in val_array:\n",
    "            T_array.append(T_func(S_0,alpha, value, ep_a)[pos])\n",
    "    \n",
    "    return np.array([T_array])\n"
   ]
  },
  {
   "cell_type": "code",
   "execution_count": 5,
   "id": "df970485",
   "metadata": {},
   "outputs": [],
   "source": [
    "# Valeurs de alpha ou epsilon_a, entre +/- 50% de leur valeur\n",
    "#VARIATIONS À RETRAVAILLER : (Stephens, 2015)\n",
    "\n",
    "def var_variation(var_value):\n",
    "    variations = np.array([5*i/100 for i in range(11)]) \n",
    "    \n",
    "    var_array =  np.concatenate(#Concaténation\n",
    "        (np.flip( #Inverse du 1er array (valeurs plus basses)\n",
    "            np.array([var_value-variations*var_value]), axis=1\n",
    "        )[:,1:9],\n",
    "         np.array([var_value+variations*var_value]) #Valeurs plus hautes\n",
    "        ), axis=1)\n",
    "    return var_array[var_array<=1]"
   ]
  },
  {
   "cell_type": "code",
   "execution_count": 6,
   "id": "b8e17cf9",
   "metadata": {},
   "outputs": [
    {
     "data": {
      "text/plain": [
       "array([0.165, 0.18 , 0.195, 0.21 , 0.225, 0.24 , 0.255, 0.27 , 0.3  ,\n",
       "       0.315, 0.33 , 0.345, 0.36 , 0.375, 0.39 , 0.405, 0.42 , 0.435,\n",
       "       0.45 ])"
      ]
     },
     "execution_count": 6,
     "metadata": {},
     "output_type": "execute_result"
    }
   ],
   "source": [
    "var_variation(alpha)"
   ]
  },
  {
   "cell_type": "code",
   "execution_count": 13,
   "id": "55496ab5",
   "metadata": {},
   "outputs": [
    {
     "data": {
      "text/plain": [
       "array([0.4235, 0.462 , 0.5005, 0.539 , 0.5775, 0.616 , 0.6545, 0.693 ,\n",
       "       0.77  , 0.8085, 0.847 , 0.8855, 0.924 , 0.9625])"
      ]
     },
     "execution_count": 13,
     "metadata": {},
     "output_type": "execute_result"
    }
   ],
   "source": [
    "var_variation(ep_a)"
   ]
  },
  {
   "cell_type": "code",
   "execution_count": 14,
   "id": "6db7bbee",
   "metadata": {},
   "outputs": [
    {
     "data": {
      "text/plain": [
       "0.038500000000000034"
      ]
     },
     "execution_count": 14,
     "metadata": {},
     "output_type": "execute_result"
    }
   ],
   "source": [
    "0.462-0.4235"
   ]
  },
  {
   "cell_type": "markdown",
   "id": "c3bd7dcb",
   "metadata": {},
   "source": [
    "# Tests de sensibilité à des variations sur $\\alpha$ pour $T_a$ et $T_s$"
   ]
  },
  {
   "cell_type": "code",
   "execution_count": 7,
   "id": "631e734f",
   "metadata": {},
   "outputs": [],
   "source": [
    "# Valeurs de alpha ou epsilon_a, entre 0 et 1\n",
    "#VARIATIONS À RETRAVAILLER : (Stephens, 2015)\n",
    "# Voir pour des variations de +/- 10% de la valeur actuelle\n",
    "# TODO\n",
    "# var_values = np.array([5*i/100 for i in range(11)]) \n",
    "# print(var_values)\n",
    "# print(alpha+var_values*alpha)\n",
    "# print(np.array(alpha-var_values*alpha)[1:9])"
   ]
  },
  {
   "cell_type": "code",
   "execution_count": 8,
   "id": "b7b3ace5",
   "metadata": {},
   "outputs": [
    {
     "name": "stdout",
     "output_type": "stream",
     "text": [
      "[[300.65971414 299.30025334 297.92201141 296.52437157 295.10668457\n",
      "  293.66826636 292.20839547 290.72631018 287.69222916 286.13847896\n",
      "  284.55899741 282.9527677  281.31870843 279.65566783 277.96241745\n",
      "  276.23764493 274.47994608 272.68781581 270.85963801]] \n",
      " [[252.82367584 251.68051012 250.52155142 249.34628109 248.15415317\n",
      "  246.94459245 245.71699225 244.47071205 241.9193642  240.61282122\n",
      "  239.28464085 237.93396805 236.55989346 235.16144859 233.73760041\n",
      "  232.28724538 230.80920272 229.3022068  227.76489864]]\n"
     ]
    }
   ],
   "source": [
    "# Valeurs de températures variables\n",
    "\n",
    "#Selon alpha\n",
    "T_s_alpha = T_array(0,\n",
    "                    \"alpha\",\n",
    "                    var_variation(alpha))\n",
    "\n",
    "T_a_alpha = T_array(1,\n",
    "                    \"alpha\",\n",
    "                    var_variation(alpha))\n",
    "\n",
    "#Selon ep_a\n",
    "T_s_epa = T_array(0,\n",
    "                  \"ep_a\",\n",
    "                  var_variation(ep_a))\n",
    "\n",
    "T_a_epa = T_array(1,\n",
    "                  \"ep_a\",\n",
    "                  var_variation(ep_a))\n",
    "\n",
    "print(T_s_alpha, \"\\n\",T_a_alpha)"
   ]
  },
  {
   "cell_type": "code",
   "execution_count": 9,
   "id": "fa1b248d",
   "metadata": {},
   "outputs": [
    {
     "data": {
      "image/png": "[encoded data removed]",
      "text/plain": [
       "<Figure size 640x480 with 1 Axes>"
      ]
     },
     "metadata": {},
     "output_type": "display_data"
    }
   ],
   "source": [
    "#Plot pour variations d'alpha\n",
    "plt.scatter(var_variation(alpha), T_s_alpha, marker=\"+\",s=100, color=\"black\", label=r\"$T_s$($\\alpha$)\")\n",
    "plt.scatter(var_variation(alpha), T_a_alpha, marker=\"+\",s=100, color=\"red\", label=r\"$T_a$($\\alpha$)\")\n",
    "plt.title(r\"Variations de température en fonction des variations de $\\alpha$\", font=\"Avenir\",size=14)\n",
    "plt.xlabel(r\"$\\alpha$\", font=\"Avenir\",size=14)\n",
    "plt.ylabel(r\"$T_a$($\\alpha$)\", font=\"Avenir\",size=14)\n",
    "plt.legend()\n",
    "plt.grid()\n",
    "plt.savefig(\"figures/0D_TA_a_v2.png\",dpi=300)\n",
    "plt.show()"
   ]
  },
  {
   "cell_type": "code",
   "execution_count": 15,
   "id": "a87e061c",
   "metadata": {},
   "outputs": [
    {
     "data": {
      "image/png": "[encoded data removed]",
      "text/plain": [
       "<Figure size 640x480 with 1 Axes>"
      ]
     },
     "metadata": {},
     "output_type": "display_data"
    }
   ],
   "source": [
    "#Plot pour variations d'epsilon_a\n",
    "plt.scatter(var_variation(ep_a), T_s_epa, marker=\"+\",s=100, color=\"black\", label=r\"$T_s$($\\varepsilon_a$)\")\n",
    "plt.scatter(var_variation(ep_a), T_a_epa, marker=\"+\",s=100, color=\"red\", label=r\"$T_a$($\\varepsilon_a$)\")\n",
    "plt.title(r\"Variations de température en fonction des variations de $\\varepsilon_a$\", font=\"Avenir\",size=14)\n",
    "plt.xlabel(r\"$\\varepsilon_a$\", font=\"Avenir\",size=14)\n",
    "plt.ylabel(r\"$T_a$($\\varepsilon_a$)\", font=\"Avenir\",size=14)\n",
    "# plt.xlim([0.4,1])\n",
    "plt.legend()\n",
    "plt.grid()\n",
    "plt.savefig(\"figures/0D_TA_epa_v2.png\",dpi=300)\n",
    "plt.show()"
   ]
  },
  {
   "cell_type": "code",
   "execution_count": null,
   "id": "d9d9eb43",
   "metadata": {},
   "outputs": [],
   "source": []
  }
 ],
 "metadata": {
  "kernelspec": {
   "display_name": "Python 3 (ipykernel)",
   "language": "python",
   "name": "python3"
  },
  "language_info": {
   "codemirror_mode": {
    "name": "ipython",
    "version": 3
   },
   "file_extension": ".py",
   "mimetype": "text/x-python",
   "name": "python",
   "nbconvert_exporter": "python",
   "pygments_lexer": "ipython3",
   "version": "3.9.12"
  }
 },
 "nbformat": 4,
 "nbformat_minor": 5
}
